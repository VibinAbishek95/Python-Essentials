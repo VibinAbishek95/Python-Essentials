{
  "nbformat": 4,
  "nbformat_minor": 0,
  "metadata": {
    "colab": {
      "name": "Assignment 3.ipynb",
      "provenance": [],
      "authorship_tag": "ABX9TyPH0VtKnUL4AqTPRXcHGrCp",
      "include_colab_link": true
    },
    "kernelspec": {
      "name": "python3",
      "display_name": "Python 3"
    }
  },
  "cells": [
    {
      "cell_type": "markdown",
      "metadata": {
        "id": "view-in-github",
        "colab_type": "text"
      },
      "source": [
        "<a href=\"https://colab.research.google.com/github/VibinAbishek95/Python-Essentials/blob/main/Assignment_3.ipynb\" target=\"_parent\"><img src=\"https://colab.research.google.com/assets/colab-badge.svg\" alt=\"Open In Colab\"/></a>"
      ]
    },
    {
      "cell_type": "code",
      "metadata": {
        "colab": {
          "base_uri": "https://localhost:8080/"
        },
        "id": "NT56oXVUILDO",
        "outputId": "53830d40-6f14-40d2-c6e7-2d82a700e7b5"
      },
      "source": [
        "num = 28\r\n",
        "if num >  1:\r\n",
        "  for i in range(2,num):\r\n",
        "    if (num % i) == 0:\r\n",
        "      print (num,\"is not a prime number\")\r\n",
        "      break\r\n",
        "  else:\r\n",
        "      print (num, \"is a prime number\")\r\n",
        "else:\r\n",
        "  print(num, \"is not a prime number\")\r\n"
      ],
      "execution_count": 17,
      "outputs": [
        {
          "output_type": "stream",
          "text": [
            "28 is not a prime number\n"
          ],
          "name": "stdout"
        }
      ]
    }
  ]
}