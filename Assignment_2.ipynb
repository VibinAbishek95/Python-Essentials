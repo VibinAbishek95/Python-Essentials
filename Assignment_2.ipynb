{
  "nbformat": 4,
  "nbformat_minor": 0,
  "metadata": {
    "colab": {
      "name": "Assignment 2.ipynb",
      "provenance": [],
      "authorship_tag": "ABX9TyPRYNnZg3seawq1U+jU6oJs",
      "include_colab_link": true
    },
    "kernelspec": {
      "name": "python3",
      "display_name": "Python 3"
    }
  },
  "cells": [
    {
      "cell_type": "markdown",
      "metadata": {
        "id": "view-in-github",
        "colab_type": "text"
      },
      "source": [
        "<a href=\"https://colab.research.google.com/github/VibinAbishek95/Python-Essentials/blob/main/Assignment_2.ipynb\" target=\"_parent\"><img src=\"https://colab.research.google.com/assets/colab-badge.svg\" alt=\"Open In Colab\"/></a>"
      ]
    },
    {
      "cell_type": "code",
      "metadata": {
        "colab": {
          "base_uri": "https://localhost:8080/"
        },
        "id": "TYWSzhPYTOTR",
        "outputId": "37cde58c-71c9-4354-f725-370cab40727f"
      },
      "source": [
        "a=int(input(\"Enter the altitude of the plane:\"))\r\n",
        "if a <= 1000:\r\n",
        "  print(\"Safe to land\")\r\n",
        "elif a>1000 and a<=5000:\r\n",
        "  print(\"Bring down to 1000\")\r\n",
        "elif a>5000:\r\n",
        "  print(\"Go around and try later\")"
      ],
      "execution_count": 2,
      "outputs": [
        {
          "output_type": "stream",
          "text": [
            "Enter the altitude of the plane:9000\n",
            "Go around and try later\n"
          ],
          "name": "stdout"
        }
      ]
    }
  ]
}